{
 "cells": [
  {
   "cell_type": "code",
   "execution_count": 99,
   "metadata": {},
   "outputs": [],
   "source": [
    "import pandas as pd\n",
    "from scipy.stats import rankdata\n",
    "from sklearn.preprocessing import LabelEncoder\n",
    "import os\n",
    "import numpy as np"
   ]
  },
  {
   "cell_type": "code",
   "execution_count": 100,
   "metadata": {},
   "outputs": [],
   "source": [
    "class OPDDataset:\n",
    "    def __init__(self, data_path):\n",
    "        self.data = pd.read_csv(os.path.join(data_path, 'women.csv'), index_col=0)\n",
    "        self.item_context = pd.read_csv(\n",
    "            os.path.join(data_path, \"item_context.csv\"), index_col=0\n",
    "        )\n",
    "        self.data.sort_values(\"timestamp\", inplace=True)\n",
    "        self.action = self.data[\"item_id\"].values\n",
    "        self.position = (rankdata(self.data[\"position\"].values, \"dense\") - 1).astype(\n",
    "            int\n",
    "        )\n",
    "        self.reward = self.data[\"click\"].values\n",
    "        self.pscore = self.data[\"propensity_score\"].values\n",
    "\n",
    "        user_cols = self.data.columns.str.contains(\"user_feature\")\n",
    "        self.context = pd.get_dummies(\n",
    "            self.data.loc[:, user_cols], drop_first=True\n",
    "        ).values\n",
    "        item_feature_0 = self.item_context[\"item_feature_0\"].to_frame()\n",
    "        item_feature_cat = self.item_context.drop(\n",
    "            columns=[\"item_id\", \"item_feature_0\"], axis=1\n",
    "        ).apply(LabelEncoder().fit_transform)\n",
    "        self.action_context = pd.concat(\n",
    "            objs=[item_feature_cat, item_feature_0], axis=1\n",
    "        ).values"
   ]
  },
  {
   "cell_type": "code",
   "execution_count": 33,
   "metadata": {},
   "outputs": [],
   "source": [
    "# dataset = OPDDataset('data/open_bandit_dataset/bts/women/')"
   ]
  },
  {
   "cell_type": "code",
   "execution_count": 119,
   "metadata": {},
   "outputs": [],
   "source": [
    "np.random.seed(2024)"
   ]
  },
  {
   "cell_type": "code",
   "execution_count": 120,
   "metadata": {},
   "outputs": [
    {
     "ename": "",
     "evalue": "",
     "output_type": "error",
     "traceback": [
      "\u001b[1;31mThe Kernel crashed while executing code in the current cell or a previous cell. \n",
      "\u001b[1;31mPlease review the code in the cell(s) to identify a possible cause of the failure. \n",
      "\u001b[1;31mClick <a href='https://aka.ms/vscodeJupyterKernelCrash'>here</a> for more info. \n",
      "\u001b[1;31mView Jupyter <a href='command:jupyter.viewOutput'>log</a> for further details."
     ]
    }
   ],
   "source": [
    "data_path = 'data/open_bandit_dataset/bts/all/'\n",
    "data = pd.read_csv(os.path.join(data_path, 'all.csv'), index_col=0)"
   ]
  },
  {
   "cell_type": "code",
   "execution_count": null,
   "metadata": {},
   "outputs": [],
   "source": [
    "item_context = pd.read_csv(\n",
    "    os.path.join(data_path, \"item_context.csv\"), index_col=0\n",
    ")\n",
    "data.sort_values(\"timestamp\", inplace=True)\n",
    "action = data[\"item_id\"].values\n",
    "position = (rankdata(data[\"position\"].values, \"dense\") - 1).astype(\n",
    "    int\n",
    ")\n",
    "reward = data[\"click\"].values\n",
    "pscore = data[\"propensity_score\"].values\n",
    "\n",
    "user_cols = data.columns.str.contains(\"user_feature\")\n",
    "context = pd.get_dummies(\n",
    "    data.loc[:, user_cols], drop_first=True\n",
    ").values\n",
    "item_feature_0 = item_context[\"item_feature_0\"].to_frame()\n",
    "item_feature_cat = item_context.drop(\n",
    "    columns=[\"item_id\", \"item_feature_0\"], axis=1\n",
    ").apply(LabelEncoder().fit_transform)\n",
    "action_context = pd.concat(\n",
    "    objs=[item_feature_cat, item_feature_0], axis=1\n",
    ").values"
   ]
  },
  {
   "cell_type": "code",
   "execution_count": null,
   "metadata": {},
   "outputs": [
    {
     "data": {
      "text/plain": [
       "((12357200,), (12357200, 27), (80, 4), (12357200,), (12357200,), (12357200,))"
      ]
     },
     "execution_count": 104,
     "metadata": {},
     "output_type": "execute_result"
    }
   ],
   "source": [
    "action.shape, context.shape, action_context.shape, reward.shape, pscore.shape, position.shape"
   ]
  },
  {
   "cell_type": "code",
   "execution_count": null,
   "metadata": {},
   "outputs": [],
   "source": [
    "# action = action[position == 1]\n",
    "# context = context[position == 1].astype(float)\n",
    "# reward = reward[position == 1]\n",
    "# pscore = pscore[position == 1]"
   ]
  },
  {
   "cell_type": "code",
   "execution_count": null,
   "metadata": {},
   "outputs": [
    {
     "data": {
      "text/plain": [
       "(61208, 12357200)"
      ]
     },
     "execution_count": 106,
     "metadata": {},
     "output_type": "execute_result"
    }
   ],
   "source": [
    "reward.sum(), len(reward)"
   ]
  },
  {
   "cell_type": "code",
   "execution_count": null,
   "metadata": {},
   "outputs": [],
   "source": [
    "reward_one = np.nonzero(reward == 1)[0]\n",
    "reward_zero = np.nonzero(reward == 0)[0]"
   ]
  },
  {
   "cell_type": "code",
   "execution_count": null,
   "metadata": {},
   "outputs": [
    {
     "data": {
      "text/plain": [
       "(61208, 12295992)"
      ]
     },
     "execution_count": 108,
     "metadata": {},
     "output_type": "execute_result"
    }
   ],
   "source": [
    "len(reward_one), len(reward_zero)"
   ]
  },
  {
   "cell_type": "code",
   "execution_count": null,
   "metadata": {},
   "outputs": [],
   "source": [
    "p = 0.8\n",
    "n_one = len(reward_one)\n",
    "n_zero = int((1-p) / p * len(reward_one))\n",
    "reward_zero = np.random.choice(reward_zero, size=n_zero, replace=False)"
   ]
  },
  {
   "cell_type": "code",
   "execution_count": null,
   "metadata": {},
   "outputs": [
    {
     "data": {
      "text/plain": [
       "(61208, 91811)"
      ]
     },
     "execution_count": 110,
     "metadata": {},
     "output_type": "execute_result"
    }
   ],
   "source": [
    "len(reward_one), len(reward_zero)"
   ]
  },
  {
   "cell_type": "code",
   "execution_count": null,
   "metadata": {},
   "outputs": [],
   "source": [
    "data_index = np.random.permutation(np.concatenate([reward_one, reward_zero]))"
   ]
  },
  {
   "cell_type": "code",
   "execution_count": null,
   "metadata": {},
   "outputs": [],
   "source": [
    "action = action[data_index]\n",
    "context = context[data_index]\n",
    "reward = reward[data_index]\n",
    "pscore = pscore[data_index]"
   ]
  },
  {
   "cell_type": "code",
   "execution_count": null,
   "metadata": {},
   "outputs": [
    {
     "data": {
      "text/plain": [
       "(61208, 153019)"
      ]
     },
     "execution_count": 113,
     "metadata": {},
     "output_type": "execute_result"
    }
   ],
   "source": [
    "reward.sum(), len(reward)"
   ]
  },
  {
   "cell_type": "code",
   "execution_count": null,
   "metadata": {},
   "outputs": [],
   "source": [
    "N = len(action)\n",
    "p = [0.8, 0.1, 0.1]\n",
    "n_train = int(p[0] * N)\n",
    "n_val = int(p[1] * N)\n",
    "data = {\n",
    "    \"train\": {\n",
    "        \"action\": action[:n_train],\n",
    "        \"context\": context[:n_train],\n",
    "        \"reward\": reward[:n_train],\n",
    "        \"pscore\": pscore[:n_train]\n",
    "    },\n",
    "    \"val\": {\n",
    "        \"action\": action[n_train:(n_train + n_val)],\n",
    "        \"context\": context[n_train:(n_train + n_val)],\n",
    "        \"reward\": reward[n_train:(n_train + n_val)],\n",
    "        \"pscore\": pscore[n_train:(n_train + n_val)]\n",
    "    },\n",
    "    \"test\": {\n",
    "        \"action\": action[n_train + n_val:],\n",
    "        \"context\": context[n_train + n_val:],\n",
    "        \"reward\": reward[n_train + n_val:],\n",
    "        \"pscore\": pscore[n_train + n_val:]\n",
    "    },\n",
    "    'items': action_context\n",
    "}"
   ]
  },
  {
   "cell_type": "code",
   "execution_count": null,
   "metadata": {},
   "outputs": [],
   "source": [
    "# for mode in ['train', 'val', 'test']:\n",
    "#     np.savez_compressed(f'data/opd/{mode}.npz', action=data[mode]['action'], context=data[mode]['context'], \n",
    "#                         reward=data[mode]['reward'], pscore=data[mode]['pscore'])\n",
    "# np.savez_compressed('data/opd/item_features.npz', features=action_context)"
   ]
  },
  {
   "cell_type": "code",
   "execution_count": null,
   "metadata": {},
   "outputs": [],
   "source": [
    "# n_samples = {'train': 1000000, 'val': 100000, 'test': 100000}\n",
    "# sample_idx = {k: np.random.choice(range(len(data[k]['action'])), size=v, replace=False) for k, v in n_samples.items()}"
   ]
  },
  {
   "cell_type": "code",
   "execution_count": 117,
   "metadata": {},
   "outputs": [],
   "source": [
    "# for mode in ['train', 'val', 'test']:\n",
    "#     np.savez_compressed(f'data/opd/sample_1M_{mode}.npz', action=data[mode]['action'][sample_idx[mode]], context=data[mode]['context'][sample_idx[mode]], \n",
    "#                         reward=data[mode]['reward'][sample_idx[mode]], pscore=data[mode]['pscore'][sample_idx[mode]])"
   ]
  },
  {
   "cell_type": "code",
   "execution_count": null,
   "metadata": {},
   "outputs": [],
   "source": [
    "for mode in ['train', 'val', 'test']:\n",
    "    np.savez_compressed(f'data/opd/bandit_data_sampled_0.8a_{mode}.npz', action=data[mode]['action'], context=data[mode]['context'], \n",
    "                        reward=data[mode]['reward'], pscore=data[mode]['pscore'])\n"
   ]
  },
  {
   "cell_type": "code",
   "execution_count": 98,
   "metadata": {},
   "outputs": [],
   "source": [
    "np.savez_compressed('data/opd/item_features.npz', features=action_context)"
   ]
  },
  {
   "cell_type": "code",
   "execution_count": null,
   "metadata": {},
   "outputs": [],
   "source": []
  }
 ],
 "metadata": {
  "kernelspec": {
   "display_name": "lse_env",
   "language": "python",
   "name": "python3"
  },
  "language_info": {
   "codemirror_mode": {
    "name": "ipython",
    "version": 3
   },
   "file_extension": ".py",
   "mimetype": "text/x-python",
   "name": "python",
   "nbconvert_exporter": "python",
   "pygments_lexer": "ipython3",
   "version": "3.8.10"
  }
 },
 "nbformat": 4,
 "nbformat_minor": 2
}
